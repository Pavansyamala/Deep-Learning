{
 "cells": [
  {
   "cell_type": "code",
   "execution_count": 1,
   "id": "acc724c4",
   "metadata": {},
   "outputs": [],
   "source": [
    "import pandas as pd\n",
    "import numpy as np"
   ]
  },
  {
   "cell_type": "code",
   "execution_count": 76,
   "id": "2f62ece4",
   "metadata": {},
   "outputs": [],
   "source": [
    "data = {\"feature1\" : [1 , 2 ,3 ,4 , 5 , 6] , \"feature2\":[2,4,5,6,7,8] , \"class\":[0,1,0,1,0,0]}"
   ]
  },
  {
   "cell_type": "code",
   "execution_count": 77,
   "id": "9b312c2c",
   "metadata": {},
   "outputs": [],
   "source": [
    "data = pd.DataFrame(data)"
   ]
  },
  {
   "cell_type": "markdown",
   "id": "0045a6bb",
   "metadata": {},
   "source": [
    "##### data"
   ]
  },
  {
   "cell_type": "code",
   "execution_count": 79,
   "id": "3007659e",
   "metadata": {},
   "outputs": [],
   "source": [
    "for i in range(data.shape[-1]-1):\n",
    "    data.iloc[:,i] = np.where(data['class'] == 0  ,  -data.iloc[:,i] , data.iloc[:,i])"
   ]
  },
  {
   "cell_type": "code",
   "execution_count": 80,
   "id": "11eb2e28",
   "metadata": {},
   "outputs": [
    {
     "data": {
      "text/html": [
       "<div>\n",
       "<style scoped>\n",
       "    .dataframe tbody tr th:only-of-type {\n",
       "        vertical-align: middle;\n",
       "    }\n",
       "\n",
       "    .dataframe tbody tr th {\n",
       "        vertical-align: top;\n",
       "    }\n",
       "\n",
       "    .dataframe thead th {\n",
       "        text-align: right;\n",
       "    }\n",
       "</style>\n",
       "<table border=\"1\" class=\"dataframe\">\n",
       "  <thead>\n",
       "    <tr style=\"text-align: right;\">\n",
       "      <th></th>\n",
       "      <th>feature1</th>\n",
       "      <th>feature2</th>\n",
       "      <th>class</th>\n",
       "    </tr>\n",
       "  </thead>\n",
       "  <tbody>\n",
       "    <tr>\n",
       "      <th>0</th>\n",
       "      <td>-1</td>\n",
       "      <td>-2</td>\n",
       "      <td>0</td>\n",
       "    </tr>\n",
       "    <tr>\n",
       "      <th>1</th>\n",
       "      <td>2</td>\n",
       "      <td>4</td>\n",
       "      <td>1</td>\n",
       "    </tr>\n",
       "    <tr>\n",
       "      <th>2</th>\n",
       "      <td>-3</td>\n",
       "      <td>-5</td>\n",
       "      <td>0</td>\n",
       "    </tr>\n",
       "    <tr>\n",
       "      <th>3</th>\n",
       "      <td>4</td>\n",
       "      <td>6</td>\n",
       "      <td>1</td>\n",
       "    </tr>\n",
       "    <tr>\n",
       "      <th>4</th>\n",
       "      <td>-5</td>\n",
       "      <td>-7</td>\n",
       "      <td>0</td>\n",
       "    </tr>\n",
       "    <tr>\n",
       "      <th>5</th>\n",
       "      <td>-6</td>\n",
       "      <td>-8</td>\n",
       "      <td>0</td>\n",
       "    </tr>\n",
       "  </tbody>\n",
       "</table>\n",
       "</div>"
      ],
      "text/plain": [
       "   feature1  feature2  class\n",
       "0        -1        -2      0\n",
       "1         2         4      1\n",
       "2        -3        -5      0\n",
       "3         4         6      1\n",
       "4        -5        -7      0\n",
       "5        -6        -8      0"
      ]
     },
     "execution_count": 80,
     "metadata": {},
     "output_type": "execute_result"
    }
   ],
   "source": [
    "data"
   ]
  },
  {
   "cell_type": "code",
   "execution_count": 102,
   "id": "246c08c2",
   "metadata": {},
   "outputs": [
    {
     "data": {
      "text/plain": [
       "(6, 3)"
      ]
     },
     "execution_count": 102,
     "metadata": {},
     "output_type": "execute_result"
    }
   ],
   "source": [
    "data.shape"
   ]
  },
  {
   "cell_type": "code",
   "execution_count": null,
   "id": "305ffdef",
   "metadata": {},
   "outputs": [],
   "source": []
  },
  {
   "cell_type": "code",
   "execution_count": 115,
   "id": "11d93b8c",
   "metadata": {},
   "outputs": [],
   "source": [
    "def linear_classifier(data):\n",
    "    a = data.shape[-1]\n",
    "    weights = np.random.randn(1 , a)\n",
    "    labels = data.iloc[:,-1]\n",
    "    data = data.drop(labels = \"class\" , axis = 1)\n",
    "    arr = np.ones((data.shape[0],1))\n",
    "    data = np.hstack((arr , data.values))\n",
    "    learning_rate = 0.01\n",
    "    print(\"Before  : \", weights)\n",
    "    for k in range(1000):\n",
    "        output =  weights @ data.T\n",
    "        vector = np.zeros(a)\n",
    "        for i , j in enumerate(output[0]):\n",
    "            if j < 0 :\n",
    "                vector += arr[i , :]\n",
    "        weights += learning_rate*vector\n",
    "    return weights"
   ]
  },
  {
   "cell_type": "code",
   "execution_count": 116,
   "id": "18fe3b26",
   "metadata": {},
   "outputs": [
    {
     "name": "stdout",
     "output_type": "stream",
     "text": [
      "Before  :  [[ 1.44373836  0.49232771 -0.40456431]]\n"
     ]
    }
   ],
   "source": [
    "weights = linear_classifier(data)"
   ]
  },
  {
   "cell_type": "code",
   "execution_count": 117,
   "id": "38fd2df2",
   "metadata": {},
   "outputs": [
    {
     "data": {
      "text/plain": [
       "array([[ 1.44373836,  0.49232771, -0.40456431]])"
      ]
     },
     "execution_count": 117,
     "metadata": {},
     "output_type": "execute_result"
    }
   ],
   "source": [
    "weights"
   ]
  },
  {
   "cell_type": "code",
   "execution_count": 118,
   "id": "676f9dde",
   "metadata": {},
   "outputs": [],
   "source": [
    "data1 = data.drop(labels = \"class\" , axis = 1)\n",
    "arr = np.ones((data.shape[0],1))\n",
    "data1 = np.hstack((arr , data1.values))\n",
    "output =  weights @ data1.T"
   ]
  },
  {
   "cell_type": "code",
   "execution_count": 119,
   "id": "0ba69eba",
   "metadata": {},
   "outputs": [
    {
     "data": {
      "text/plain": [
       "array([[1.76053927, 0.81013654, 1.98957678, 0.98566334, 1.81404999,\n",
       "        1.72628659]])"
      ]
     },
     "execution_count": 119,
     "metadata": {},
     "output_type": "execute_result"
    }
   ],
   "source": [
    "output"
   ]
  },
  {
   "cell_type": "code",
   "execution_count": 103,
   "id": "b9f17976",
   "metadata": {},
   "outputs": [
    {
     "data": {
      "text/plain": [
       "array([[-0.72705796,  0.72760257]])"
      ]
     },
     "execution_count": 103,
     "metadata": {},
     "output_type": "execute_result"
    }
   ],
   "source": [
    "np.random.randn(1,2)"
   ]
  },
  {
   "cell_type": "code",
   "execution_count": 104,
   "id": "f2b18d6e",
   "metadata": {},
   "outputs": [
    {
     "data": {
      "text/plain": [
       "array([[ 1., -1., -2.],\n",
       "       [ 1.,  2.,  4.],\n",
       "       [ 1., -3., -5.],\n",
       "       [ 1.,  4.,  6.],\n",
       "       [ 1., -5., -7.],\n",
       "       [ 1., -6., -8.]])"
      ]
     },
     "execution_count": 104,
     "metadata": {},
     "output_type": "execute_result"
    }
   ],
   "source": [
    "data1"
   ]
  },
  {
   "cell_type": "code",
   "execution_count": null,
   "id": "c6f6ebe5",
   "metadata": {},
   "outputs": [],
   "source": []
  },
  {
   "cell_type": "code",
   "execution_count": null,
   "id": "e3c7ac36",
   "metadata": {},
   "outputs": [],
   "source": []
  },
  {
   "cell_type": "code",
   "execution_count": null,
   "id": "1e608399",
   "metadata": {},
   "outputs": [],
   "source": []
  },
  {
   "cell_type": "code",
   "execution_count": null,
   "id": "67b06046",
   "metadata": {},
   "outputs": [],
   "source": []
  },
  {
   "cell_type": "code",
   "execution_count": null,
   "id": "4930c133",
   "metadata": {},
   "outputs": [],
   "source": []
  },
  {
   "cell_type": "code",
   "execution_count": null,
   "id": "785d4546",
   "metadata": {},
   "outputs": [],
   "source": []
  },
  {
   "cell_type": "code",
   "execution_count": null,
   "id": "29fb32c4",
   "metadata": {},
   "outputs": [],
   "source": []
  },
  {
   "cell_type": "code",
   "execution_count": null,
   "id": "1d6fb5fb",
   "metadata": {},
   "outputs": [],
   "source": []
  },
  {
   "cell_type": "code",
   "execution_count": null,
   "id": "fa80bfda",
   "metadata": {},
   "outputs": [],
   "source": []
  },
  {
   "cell_type": "code",
   "execution_count": null,
   "id": "7a13f855",
   "metadata": {},
   "outputs": [],
   "source": []
  },
  {
   "cell_type": "code",
   "execution_count": null,
   "id": "869efc39",
   "metadata": {},
   "outputs": [],
   "source": []
  }
 ],
 "metadata": {
  "kernelspec": {
   "display_name": "Python 3 (ipykernel)",
   "language": "python",
   "name": "python3"
  },
  "language_info": {
   "codemirror_mode": {
    "name": "ipython",
    "version": 3
   },
   "file_extension": ".py",
   "mimetype": "text/x-python",
   "name": "python",
   "nbconvert_exporter": "python",
   "pygments_lexer": "ipython3",
   "version": "3.11.5"
  }
 },
 "nbformat": 4,
 "nbformat_minor": 5
}
